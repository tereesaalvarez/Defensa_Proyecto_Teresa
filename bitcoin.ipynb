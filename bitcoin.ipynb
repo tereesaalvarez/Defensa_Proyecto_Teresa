{
 "cells": [
  {
   "cell_type": "code",
   "execution_count": 26,
   "metadata": {},
   "outputs": [],
   "source": [
    "import dask.dataframe as dd\n",
    "import random\n",
    "import numpy as np\n",
    "import pandas as pd"
   ]
  },
  {
   "cell_type": "code",
   "execution_count": 27,
   "metadata": {},
   "outputs": [],
   "source": [
    "#Empiezo trabajando con el csv codificado\n",
    "df= dd.read_csv('air_traffic_data_codificado.csv')"
   ]
  },
  {
   "cell_type": "code",
   "execution_count": 28,
   "metadata": {},
   "outputs": [],
   "source": [
    "def bitcoinToEuros(bitcoin_amount, bitcoin_value_euros):\n",
    "    euros_value = bitcoin_amount * bitcoin_value_euros\n",
    "    return euros_value\n"
   ]
  },
  {
   "cell_type": "code",
   "execution_count": 29,
   "metadata": {},
   "outputs": [
    {
     "data": {
      "text/plain": [
       "25000.0"
      ]
     },
     "metadata": {},
     "output_type": "display_data"
    }
   ],
   "source": [
    "bitcoin_amount = 0.5\n",
    "bitcoin_value_euros = 50000\n",
    "\n",
    "euros_value = bitcoinToEuros(bitcoin_amount, bitcoin_value_euros)\n",
    "display(euros_value)\n"
   ]
  },
  {
   "cell_type": "code",
   "execution_count": 30,
   "metadata": {},
   "outputs": [
    {
     "ename": "ValueError",
     "evalue": "Not all divisions are known, can't align partitions. Please use `set_index` to set the index.",
     "output_type": "error",
     "traceback": [
      "\u001b[1;31m---------------------------------------------------------------------------\u001b[0m",
      "\u001b[1;31mValueError\u001b[0m                                Traceback (most recent call last)",
      "\u001b[1;32mc:\\Users\\alvde\\Desktop\\2o cuatri\\Programación Paralela\\Prácticas\\Defensa_Proyecto_Teresa\\bitcoin.ipynb Cell 5\u001b[0m in \u001b[0;36m4\n\u001b[0;32m      <a href='vscode-notebook-cell:/c%3A/Users/alvde/Desktop/2o%20cuatri/Programaci%C3%B3n%20Paralela/Pr%C3%A1cticas/Defensa_Proyecto_Teresa/bitcoin.ipynb#X14sZmlsZQ%3D%3D?line=0'>1</a>\u001b[0m random_values \u001b[39m=\u001b[39m np\u001b[39m.\u001b[39mrandom\u001b[39m.\u001b[39mrandom(size\u001b[39m=\u001b[39m\u001b[39mlen\u001b[39m(df))\n\u001b[0;32m      <a href='vscode-notebook-cell:/c%3A/Users/alvde/Desktop/2o%20cuatri/Programaci%C3%B3n%20Paralela/Pr%C3%A1cticas/Defensa_Proyecto_Teresa/bitcoin.ipynb#X14sZmlsZQ%3D%3D?line=2'>3</a>\u001b[0m \u001b[39m# Añadir una columna con los valores aleatorios al DataFrame\u001b[39;00m\n\u001b[1;32m----> <a href='vscode-notebook-cell:/c%3A/Users/alvde/Desktop/2o%20cuatri/Programaci%C3%B3n%20Paralela/Pr%C3%A1cticas/Defensa_Proyecto_Teresa/bitcoin.ipynb#X14sZmlsZQ%3D%3D?line=3'>4</a>\u001b[0m df[\u001b[39m'\u001b[39;49m\u001b[39mbitcoin\u001b[39;49m\u001b[39m'\u001b[39;49m] \u001b[39m=\u001b[39m dd\u001b[39m.\u001b[39mfrom_array(random_values)\n\u001b[0;32m      <a href='vscode-notebook-cell:/c%3A/Users/alvde/Desktop/2o%20cuatri/Programaci%C3%B3n%20Paralela/Pr%C3%A1cticas/Defensa_Proyecto_Teresa/bitcoin.ipynb#X14sZmlsZQ%3D%3D?line=5'>6</a>\u001b[0m \u001b[39m# Visualizar el DataFrame resultante\u001b[39;00m\n\u001b[0;32m      <a href='vscode-notebook-cell:/c%3A/Users/alvde/Desktop/2o%20cuatri/Programaci%C3%B3n%20Paralela/Pr%C3%A1cticas/Defensa_Proyecto_Teresa/bitcoin.ipynb#X14sZmlsZQ%3D%3D?line=6'>7</a>\u001b[0m display(df\u001b[39m.\u001b[39mcompute())\n",
      "File \u001b[1;32m~\\AppData\\Local\\Packages\\PythonSoftwareFoundation.Python.3.9_qbz5n2kfra8p0\\LocalCache\\local-packages\\Python39\\site-packages\\dask\\dataframe\\core.py:4922\u001b[0m, in \u001b[0;36mDataFrame.__setitem__\u001b[1;34m(self, key, value)\u001b[0m\n\u001b[0;32m   4920\u001b[0m     \u001b[39mraise\u001b[39;00m \u001b[39mNotImplementedError\u001b[39;00m(\u001b[39mf\u001b[39m\u001b[39m\"\u001b[39m\u001b[39mItem assignment with \u001b[39m\u001b[39m{\u001b[39;00m\u001b[39mtype\u001b[39m(key)\u001b[39m}\u001b[39;00m\u001b[39m not supported\u001b[39m\u001b[39m\"\u001b[39m)\n\u001b[0;32m   4921\u001b[0m \u001b[39melse\u001b[39;00m:\n\u001b[1;32m-> 4922\u001b[0m     df \u001b[39m=\u001b[39m \u001b[39mself\u001b[39m\u001b[39m.\u001b[39massign(\u001b[39m*\u001b[39m\u001b[39m*\u001b[39m{key: value})\n\u001b[0;32m   4924\u001b[0m \u001b[39mself\u001b[39m\u001b[39m.\u001b[39mdask \u001b[39m=\u001b[39m df\u001b[39m.\u001b[39mdask\n\u001b[0;32m   4925\u001b[0m \u001b[39mself\u001b[39m\u001b[39m.\u001b[39m_name \u001b[39m=\u001b[39m df\u001b[39m.\u001b[39m_name\n",
      "File \u001b[1;32m~\\AppData\\Local\\Packages\\PythonSoftwareFoundation.Python.3.9_qbz5n2kfra8p0\\LocalCache\\local-packages\\Python39\\site-packages\\dask\\dataframe\\core.py:5372\u001b[0m, in \u001b[0;36mDataFrame.assign\u001b[1;34m(self, **kwargs)\u001b[0m\n\u001b[0;32m   5368\u001b[0m     \u001b[39m# Figure out columns of the output\u001b[39;00m\n\u001b[0;32m   5369\u001b[0m     df2 \u001b[39m=\u001b[39m data\u001b[39m.\u001b[39m_meta_nonempty\u001b[39m.\u001b[39massign(\n\u001b[0;32m   5370\u001b[0m         \u001b[39m*\u001b[39m\u001b[39m*\u001b[39m_extract_meta({k: kwargs[k]}, nonempty\u001b[39m=\u001b[39m\u001b[39mTrue\u001b[39;00m)\n\u001b[0;32m   5371\u001b[0m     )\n\u001b[1;32m-> 5372\u001b[0m     data \u001b[39m=\u001b[39m elemwise(methods\u001b[39m.\u001b[39;49massign, data, \u001b[39m*\u001b[39;49mpairs, meta\u001b[39m=\u001b[39;49mdf2)\n\u001b[0;32m   5374\u001b[0m \u001b[39mreturn\u001b[39;00m data\n",
      "File \u001b[1;32m~\\AppData\\Local\\Packages\\PythonSoftwareFoundation.Python.3.9_qbz5n2kfra8p0\\LocalCache\\local-packages\\Python39\\site-packages\\dask\\dataframe\\core.py:6488\u001b[0m, in \u001b[0;36melemwise\u001b[1;34m(op, meta, out, transform_divisions, *args, **kwargs)\u001b[0m\n\u001b[0;32m   6484\u001b[0m args \u001b[39m=\u001b[39m _maybe_from_pandas(args)\n\u001b[0;32m   6486\u001b[0m \u001b[39mfrom\u001b[39;00m \u001b[39mdask\u001b[39;00m\u001b[39m.\u001b[39;00m\u001b[39mdataframe\u001b[39;00m\u001b[39m.\u001b[39;00m\u001b[39mmulti\u001b[39;00m \u001b[39mimport\u001b[39;00m _maybe_align_partitions\n\u001b[1;32m-> 6488\u001b[0m args \u001b[39m=\u001b[39m _maybe_align_partitions(args)\n\u001b[0;32m   6489\u001b[0m dasks \u001b[39m=\u001b[39m [arg \u001b[39mfor\u001b[39;00m arg \u001b[39min\u001b[39;00m args \u001b[39mif\u001b[39;00m \u001b[39misinstance\u001b[39m(arg, (_Frame, Scalar, Array))]\n\u001b[0;32m   6490\u001b[0m dfs \u001b[39m=\u001b[39m [df \u001b[39mfor\u001b[39;00m df \u001b[39min\u001b[39;00m dasks \u001b[39mif\u001b[39;00m \u001b[39misinstance\u001b[39m(df, _Frame)]\n",
      "File \u001b[1;32m~\\AppData\\Local\\Packages\\PythonSoftwareFoundation.Python.3.9_qbz5n2kfra8p0\\LocalCache\\local-packages\\Python39\\site-packages\\dask\\dataframe\\multi.py:176\u001b[0m, in \u001b[0;36m_maybe_align_partitions\u001b[1;34m(args)\u001b[0m\n\u001b[0;32m    174\u001b[0m divisions \u001b[39m=\u001b[39m dfs[\u001b[39m0\u001b[39m]\u001b[39m.\u001b[39mdivisions\n\u001b[0;32m    175\u001b[0m \u001b[39mif\u001b[39;00m \u001b[39mnot\u001b[39;00m \u001b[39mall\u001b[39m(df\u001b[39m.\u001b[39mdivisions \u001b[39m==\u001b[39m divisions \u001b[39mfor\u001b[39;00m df \u001b[39min\u001b[39;00m dfs):\n\u001b[1;32m--> 176\u001b[0m     dfs2 \u001b[39m=\u001b[39m \u001b[39miter\u001b[39m(align_partitions(\u001b[39m*\u001b[39;49mdfs)[\u001b[39m0\u001b[39m])\n\u001b[0;32m    177\u001b[0m     \u001b[39mreturn\u001b[39;00m [a \u001b[39mif\u001b[39;00m \u001b[39mnot\u001b[39;00m \u001b[39misinstance\u001b[39m(a, _Frame) \u001b[39melse\u001b[39;00m \u001b[39mnext\u001b[39m(dfs2) \u001b[39mfor\u001b[39;00m a \u001b[39min\u001b[39;00m args]\n\u001b[0;32m    178\u001b[0m \u001b[39mreturn\u001b[39;00m args\n",
      "File \u001b[1;32m~\\AppData\\Local\\Packages\\PythonSoftwareFoundation.Python.3.9_qbz5n2kfra8p0\\LocalCache\\local-packages\\Python39\\site-packages\\dask\\dataframe\\multi.py:130\u001b[0m, in \u001b[0;36malign_partitions\u001b[1;34m(*dfs)\u001b[0m\n\u001b[0;32m    128\u001b[0m     \u001b[39mraise\u001b[39;00m \u001b[39mValueError\u001b[39;00m(\u001b[39m\"\u001b[39m\u001b[39mdfs contains no DataFrame and Series\u001b[39m\u001b[39m\"\u001b[39m)\n\u001b[0;32m    129\u001b[0m \u001b[39mif\u001b[39;00m \u001b[39mnot\u001b[39;00m \u001b[39mall\u001b[39m(df\u001b[39m.\u001b[39mknown_divisions \u001b[39mfor\u001b[39;00m df \u001b[39min\u001b[39;00m dfs1):\n\u001b[1;32m--> 130\u001b[0m     \u001b[39mraise\u001b[39;00m \u001b[39mValueError\u001b[39;00m(\n\u001b[0;32m    131\u001b[0m         \u001b[39m\"\u001b[39m\u001b[39mNot all divisions are known, can\u001b[39m\u001b[39m'\u001b[39m\u001b[39mt align \u001b[39m\u001b[39m\"\u001b[39m\n\u001b[0;32m    132\u001b[0m         \u001b[39m\"\u001b[39m\u001b[39mpartitions. Please use `set_index` \u001b[39m\u001b[39m\"\u001b[39m\n\u001b[0;32m    133\u001b[0m         \u001b[39m\"\u001b[39m\u001b[39mto set the index.\u001b[39m\u001b[39m\"\u001b[39m\n\u001b[0;32m    134\u001b[0m     )\n\u001b[0;32m    136\u001b[0m divisions \u001b[39m=\u001b[39m \u001b[39mlist\u001b[39m(unique(merge_sorted(\u001b[39m*\u001b[39m[df\u001b[39m.\u001b[39mdivisions \u001b[39mfor\u001b[39;00m df \u001b[39min\u001b[39;00m dfs1])))\n\u001b[0;32m    137\u001b[0m \u001b[39mif\u001b[39;00m \u001b[39mlen\u001b[39m(divisions) \u001b[39m==\u001b[39m \u001b[39m1\u001b[39m:  \u001b[39m# single value for index\u001b[39;00m\n",
      "\u001b[1;31mValueError\u001b[0m: Not all divisions are known, can't align partitions. Please use `set_index` to set the index."
     ]
    }
   ],
   "source": [
    "random_values = np.random.random(size=len(df))\n",
    "\n",
    "# Añadir una columna con los valores aleatorios al DataFrame\n",
    "df['bitcoin'] = dd.from_array(random_values)\n",
    "\n",
    "# Visualizar el DataFrame resultante\n",
    "display(df.compute())\n"
   ]
  }
 ],
 "metadata": {
  "kernelspec": {
   "display_name": "Python 3",
   "language": "python",
   "name": "python3"
  },
  "language_info": {
   "codemirror_mode": {
    "name": "ipython",
    "version": 3
   },
   "file_extension": ".py",
   "mimetype": "text/x-python",
   "name": "python",
   "nbconvert_exporter": "python",
   "pygments_lexer": "ipython3",
   "version": "3.9.13"
  },
  "orig_nbformat": 4
 },
 "nbformat": 4,
 "nbformat_minor": 2
}
